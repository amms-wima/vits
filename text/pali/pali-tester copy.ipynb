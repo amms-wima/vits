{
 "cells": [
  {
   "cell_type": "code",
   "execution_count": 3,
   "metadata": {},
   "outputs": [],
   "source": [
    "import json\n",
    "\n",
    "corpos_ipa_table = None\n",
    "with open(\"../../test/18vctk_17_ipa_table.json\", \"r\") as f:\n",
    "    data = f.read()\n",
    "    corpos_ipa_table = json.loads(data)"
   ]
  },
  {
   "cell_type": "code",
   "execution_count": 4,
   "metadata": {},
   "outputs": [
    {
     "name": "stdout",
     "output_type": "stream",
     "text": [
      "z|286\n",
      "ɑ|123\n",
      "h|163\n",
      "ˈ|1267\n",
      "b|179\n",
      "t|653\n",
      "ʃ|118\n",
      "ɖ|0\n",
      "ɡ|70\n",
      "ʒ|56\n",
      "k|302\n",
      "p|180\n",
      "ʈ|0\n",
      "ʤ|0\n",
      "ə|506\n",
      "j|50\n",
      "ɹ|426\n",
      "θ|37\n",
      "ʌ|232\n",
      "ŋ|76\n",
      "v|162\n",
      "ɪ|1023\n",
      "ɒ|0\n",
      "ʧ|0\n",
      "ɛ|239\n",
      "i|309\n",
      "ː|551\n",
      "l|371\n",
      "m|233\n",
      "n|581\n",
      "u|81\n"
     ]
    }
   ],
   "source": [
    "from pa_si_phonemizer import SPECIAL_MAPPING, PALI_IPA_MAP, SINHALA_ENDINGS\n",
    "\n",
    "def _dump_csv_format(symbol_dict):\n",
    "    for i, k in enumerate(symbol_dict):\n",
    "        print(f\"{k}|{symbol_dict[k]}\")\n",
    "\n",
    "def append_to_aggr_letters(new_letters, aggr_letters):\n",
    "    for letter in new_letters:\n",
    "        if (letter not in aggr_letters):\n",
    "            aggr_letters += letter\n",
    "    return aggr_letters\n",
    "\n",
    "pali_aggr_letters = \"\"\n",
    "for i, k in enumerate(SPECIAL_MAPPING):\n",
    "    pali_aggr_letters = append_to_aggr_letters(SPECIAL_MAPPING[k], pali_aggr_letters)\n",
    "\n",
    "for i, k in enumerate(PALI_IPA_MAP):\n",
    "    pali_aggr_letters = append_to_aggr_letters(PALI_IPA_MAP[k], pali_aggr_letters)\n",
    "\n",
    "for i, k in enumerate(SINHALA_ENDINGS):\n",
    "    pali_aggr_letters = append_to_aggr_letters(SINHALA_ENDINGS[k], pali_aggr_letters)\n",
    "\n",
    "pali_ref_table = {}\n",
    "for letter in pali_aggr_letters:\n",
    "    pali_ref_table[letter] = corpos_ipa_table[letter]\n",
    "\n",
    "\n",
    "_dump_csv_format(pali_ref_table)"
   ]
  },
  {
   "cell_type": "code",
   "execution_count": 3,
   "metadata": {},
   "outputs": [
    {
     "name": "stdout",
     "output_type": "stream",
     "text": [
      "saṁsāra\n",
      "['s->z] \t saṁsāra\n",
      "[’s->z] \t saṁsāra\n",
      "[āh->ɑhˈ] \t saṁsāra\n",
      "[bh->bh] \t saṁsāra\n",
      "[ch->tʃˈ] \t saṁsāra\n",
      "[ḍh->ɖ] \t saṁsāra\n",
      "[dh->ɖɖˈ] \t saṁsāra\n",
      "[gh->ɡˈ] \t saṁsāra\n",
      "[jh->ɖʒˈ] \t saṁsāra\n",
      "[kh->kˈ] \t saṁsāra\n",
      "[ph->p] \t saṁsāra\n",
      "[ṭh->ʈˈ] \t saṁsāra\n",
      "[th->ʈh] \t saṁsāra\n",
      "[j->ʤ] \t saṁsāra\n",
      "[aya->əjˈə] \t saṁsāra\n",
      "[bˈa->bˈɑɹ] \t saṁsāra\n",
      "[da->ɖθʌɹ] \t saṁsāra\n",
      "[ñā->ŋjjˈɑɹ] \t saṁsāra\n",
      "[ñña->ŋŋjjˈɑɹ] \t saṁsāra\n",
      "[vi->vɪˈ] \t saṁsāra\n",
      "[ov->ɒˈv] \t saṁsāra\n",
      "[āy->ɑj] \t saṁsāra\n",
      "\n",
      "saṁsāra\n",
      "0: [s == s] \t\t s\n",
      "1: [a -> ɑ] \t\t sɑ\n",
      "2: [ṁ -> m̩] \t\t sɑm̩\n",
      "3: [s == s] \t\t sɑm̩s\n",
      "4: [ā -> ɑɹ] \t\t sɑm̩sɑɹ\n",
      "5: [r -> ɹɹ] \t\t sɑm̩sɑɹɹɹ\n",
      "6: [a -> ɑ] \t\t sɑm̩sɑɹɹɹɑ\n",
      "\n",
      "sɑm̩sɑɹɹɹɑ\n",
      "[ɑ->ˈə] \t sɑm̩sɑɹɹɹˈə\n",
      "\n",
      "sɑm̩sɑɹɹɹˈə\n"
     ]
    }
   ],
   "source": [
    "from pa_si_phonemizer import pali_to_ipa\n",
    "\n",
    "\n",
    "str = \"Saṁsāra\"\n",
    "\n",
    "ret = pali_to_ipa(str, True)"
   ]
  },
  {
   "cell_type": "code",
   "execution_count": 17,
   "metadata": {},
   "outputs": [],
   "source": [
    "_pad        = '_'\n",
    "_punctuation = ';:,.!?¡¿—…\"«»“” '\n",
    "_letters = 'ABCDEFGHIJKLMNOPQRSTUVWXYZabcdefghijklmnopqrstuvwxyz'\n",
    "_letters_ipa = \"ɑɐɒæɓʙβɔɕçɗɖðʤəɘɚɛɜɝɞɟʄɡɠɢʛɦɧħɥʜɨɪʝɭɬɫɮʟɱɯɰŋɳɲɴøɵɸθœɶʘɹɺɾɻʀʁɽʂʃʈʧʉʊʋⱱʌɣɤʍχʎʏʑʐʒʔʡʕʢǀǁǂǃˈˌːˑʼʴʰʱʲʷˠˤ˞↓↑→↗↘'̩'ᵻ'\\u0361\"\n",
    "\n",
    "\n",
    "# Export all symbols:\n",
    "symbols = [_pad] + list(_punctuation) + list(_letters) + list(_letters_ipa)\n",
    "\n",
    "# Special symbol ids\n",
    "SPACE_ID = symbols.index(\" \")\n"
   ]
  },
  {
   "cell_type": "code",
   "execution_count": 19,
   "metadata": {},
   "outputs": [
    {
     "name": "stdout",
     "output_type": "stream",
     "text": [
      "Check characters that are not in VITS vocab:\n",
      "pali[z] vits.vocab.idx = 68\n",
      "pali[b] vits.vocab.idx = 44\n",
      "pali[h] vits.vocab.idx = 50\n",
      "pali[t] vits.vocab.idx = 62\n",
      "pali[ʃ] vits.vocab.idx = 131\n",
      "pali[ˈ] vits.vocab.idx = 156\n",
      "pali[ɖ] vits.vocab.idx = 80\n",
      "pali[ɡ] vits.vocab.idx = 92\n",
      "pali[ʒ] vits.vocab.idx = 147\n",
      "pali[k] vits.vocab.idx = 53\n",
      "pali[p] vits.vocab.idx = 58\n",
      "pali[ʈ] vits.vocab.idx = 132\n",
      "pali[ʤ] vits.vocab.idx = 82\n",
      "pali[ə] vits.vocab.idx = 83\n",
      "pali[j] vits.vocab.idx = 52\n",
      "pali[ɑ] vits.vocab.idx = 69\n",
      "pali[ɹ] vits.vocab.idx = 123\n",
      "pali[θ] vits.vocab.idx = 119\n",
      "pali[ʌ] vits.vocab.idx = 138\n",
      "pali[ŋ] vits.vocab.idx = 112\n",
      "pali[v] vits.vocab.idx = 64\n",
      "pali[ɪ] vits.vocab.idx = 102\n",
      "pali[ɒ] vits.vocab.idx = 71\n",
      "pali[ʧ] vits.vocab.idx = 133\n",
      "pali[ɛ] vits.vocab.idx = 86\n",
      "pali[i] vits.vocab.idx = 51\n",
      "pali[ː] vits.vocab.idx = 158\n",
      "pali[l] vits.vocab.idx = 54\n",
      "pali[m] vits.vocab.idx = 55\n",
      "pali[̩] vits.vocab.idx = 175\n",
      "pali[n] vits.vocab.idx = 56\n",
      "pali[u] vits.vocab.idx = 63\n"
     ]
    }
   ],
   "source": []
  },
  {
   "cell_type": "code",
   "execution_count": null,
   "metadata": {},
   "outputs": [],
   "source": [
    "how to create a dictionary using all the symbols as keys?\n",
    "\n",
    "_pad        = '_'\n",
    "_punctuation = ';:,.!?¡¿—…\"«»“” '\n",
    "_letters = 'ABCDEFGHIJKLMNOPQRSTUVWXYZabcdefghijklmnopqrstuvwxyz'\n",
    "_letters_ipa = \"ɑɐɒæɓʙβɔɕçɗɖðʤəɘɚɛɜɝɞɟʄɡɠɢʛɦɧħɥʜɨɪʝɭɬɫɮʟɱɯɰŋɳɲɴøɵɸθœɶʘɹɺɾɻʀʁɽʂʃʈʧʉʊʋⱱʌɣɤʍχʎʏʑʐʒʔʡʕʢǀǁǂǃˈˌːˑʼʴʰʱʲʷˠˤ˞↓↑→↗↘'̩'ᵻ'\\u0361\"\n",
    "\n",
    "\n",
    "# Export all symbols:\n",
    "symbols = [_pad] + list(_punctuation) + list(_letters) + list(_letters_ipa)\n"
   ]
  }
 ],
 "metadata": {
  "kernelspec": {
   "display_name": "vits309",
   "language": "python",
   "name": "python3"
  },
  "language_info": {
   "codemirror_mode": {
    "name": "ipython",
    "version": 3
   },
   "file_extension": ".py",
   "mimetype": "text/x-python",
   "name": "python",
   "nbconvert_exporter": "python",
   "pygments_lexer": "ipython3",
   "version": "3.9.2"
  },
  "orig_nbformat": 4
 },
 "nbformat": 4,
 "nbformat_minor": 2
}
