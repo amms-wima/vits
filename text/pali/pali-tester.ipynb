{
 "cells": [
  {
   "cell_type": "code",
   "execution_count": 1,
   "metadata": {},
   "outputs": [
    {
     "ename": "SyntaxError",
     "evalue": "EOL while scanning string literal (866504963.py, line 4)",
     "output_type": "error",
     "traceback": [
      "\u001b[0;36m  Cell \u001b[0;32mIn[1], line 4\u001b[0;36m\u001b[0m\n\u001b[0;31m    with open(\"~/prj/tts_ds2/generated_ashinw/sutta_sentences.0-cfg/train-corpus.csv.cleaned.csv.stats.json, \"r\") as f:\u001b[0m\n\u001b[0m                                                                                                                       ^\u001b[0m\n\u001b[0;31mSyntaxError\u001b[0m\u001b[0;31m:\u001b[0m EOL while scanning string literal\n"
     ]
    }
   ],
   "source": [
    "import json\n",
    "\n",
    "corpos_ipa_table = None\n",
    "with open(\"~/prj/tts_ds2/generated_ashinw/sutta_sentences.0-cfg/train-corpus.csv.cleaned.csv.stats.json\", \"r\") as f:\n",
    "    data = f.read()\n",
    "    corpos_ipa_table = json.loads(data)"
   ]
  },
  {
   "cell_type": "code",
   "execution_count": 2,
   "metadata": {},
   "outputs": [
    {
     "name": "stdout",
     "output_type": "stream",
     "text": [
      "ɑ|123\n",
      "ɛ|239\n",
      "ɪ|1023\n",
      "ɒ|0\n",
      "u|81\n",
      "ː|551\n",
      "ʧ|0\n",
      "ɖ|0\n",
      "ɡ|70\n",
      "g|0\n",
      "ʰ|0\n",
      "h|163\n",
      "ʤ|0\n",
      "l|371\n",
      "ˈ|1267\n",
      "ˌ|176\n",
      "m|233\n",
      "ŋ|76\n",
      "j|50\n",
      "n|581\n",
      "k|302\n",
      "ɹ|426\n",
      "θ|37\n",
      "ʈ|0\n",
      "v|162\n",
      "z|286\n"
     ]
    }
   ],
   "source": [
    "from pa_si_phonemizer import MAPPING\n",
    "\n",
    "def _dump_csv_format(symbol_dict):\n",
    "    for i, k in enumerate(symbol_dict):\n",
    "        print(f\"{k}|{symbol_dict[k]}\")\n",
    "\n",
    "def append_to_aggr_letters(new_letters, aggr_letters):\n",
    "    for letter in new_letters:\n",
    "        if (letter not in aggr_letters):\n",
    "            aggr_letters += letter\n",
    "    return aggr_letters\n",
    "\n",
    "pali_aggr_letters = \"\"\n",
    "for i, k in enumerate(MAPPING):\n",
    "    pali_aggr_letters = append_to_aggr_letters(MAPPING[k], pali_aggr_letters)\n",
    "\n",
    "pali_ref_table = {}\n",
    "for letter in pali_aggr_letters:\n",
    "    pali_ref_table[letter] = corpos_ipa_table[letter]\n",
    "\n",
    "\n",
    "_dump_csv_format(pali_ref_table)"
   ]
  },
  {
   "cell_type": "code",
   "execution_count": null,
   "metadata": {},
   "outputs": [],
   "source": [
    "# for i, k in enumerate(MAPPING):\n",
    "#     v = MAPPING[k]\n",
    "#     print(f\"{k}: {v}\")\n",
    "#     if (v not in enGB):\n",
    "#         for char in v:\n",
    "#             if (char not in char_set):\n",
    "#                 char_set = char_set + char\n",
    "#                 print(f\"char_set: {char_set}\")\n"
   ]
  },
  {
   "cell_type": "code",
   "execution_count": 1,
   "metadata": {},
   "outputs": [
    {
     "name": "stdout",
     "output_type": "stream",
     "text": [
      "ṭh: tˌ\n",
      "ja: ʤɑː\n",
      "ja: ʤɑː\n",
      "ū: uːuː\n",
      "ḹ: lˈ\n",
      "missing: ['ˌ', 'ɑ', 'ː', 'u', 'ˈ']\n",
      "single word: ˌɑːuˈ\n"
     ]
    }
   ],
   "source": [
    "from pa_si_phonemizer import MAPPING\n",
    "\n",
    "enGB = [\"p\", \"b\", \"t\", \"d\", \"k\", \"ɡ\", \"m\", \"n\", \"ŋ\", \"f\", \"v\", \"s\", \"z\", \"θ\", \"ð\", \"ʃ\", \"ʒ\", \"h\", \"l\", \"ɹ\", \"ʧ\", \"ʤ\", \"j\", \"w\", \"æ\", \"ɑː\", \"ə\", \"ɛ\", \"ɪ\", \"iː\", \"ɒ\", \"ɔː\", \"ʊ\", \"uː\", \"ʌ\", \"ɜː\", \"aɪ\", \"aʊ\", \"eɪ\", \"eə\", \"iə\", \"ɔɪ\", \"əʊ\", \"ʊə\"]\n",
    "missing_in_enGB = []\n",
    "for i, k in enumerate(MAPPING):\n",
    "    v = MAPPING[k]\n",
    "    if (v not in enGB):\n",
    "        for char in v:\n",
    "            if (char not in enGB and char not in missing_in_enGB):\n",
    "                print(f\"{k}: {v}\")\n",
    "                missing_in_enGB.append(char)\n",
    "\n",
    "print(f\"missing: {missing_in_enGB}\")\n",
    "print(f\"single word: {''.join(missing_in_enGB)}\")"
   ]
  },
  {
   "cell_type": "code",
   "execution_count": 1,
   "metadata": {},
   "outputs": [
    {
     "name": "stdout",
     "output_type": "stream",
     "text": [
      "[164]\n",
      "[θhɛn @ʌsɪbʌnðhʌkʌpuːθθʌ@ θhɛ hɛʌðmʌn, ʌ ðɪsʧɪplɛ ɒf θhɛ @nɪɡʌnˌtˌʌs@, vɛnθ θɒ @nɪɡʌnˌtˌʌ nɑːɑːtˌʌpuːθθʌ@ ʌnð, ɒn ʌɹɹɪvʌl, hʌvɪnɡ bɒvɛð ðɒvn θɒ hɪm, sʌθ θɒ ɒnɛ sɪðɛ.]\n"
     ]
    }
   ],
   "source": [
    "from pa_si_phonemizer import pali_to_ipa\n",
    "\n",
    "# advayaṁ jaya rāja yakkha\n",
    "ipa = pali_to_ipa(\"Then @Asibandhakaputta@ the headman, a disciple of the @nigaṇṭhas@, went to @Nigaṇṭha Nāṭaputta@ and, on arrival, having bowed down to him, sat to one side.\", False)\n",
    "print(f\"[{len(ipa)}]\")\n",
    "print(f\"[{ipa}]\")"
   ]
  }
 ],
 "metadata": {
  "kernelspec": {
   "display_name": "vits309",
   "language": "python",
   "name": "python3"
  },
  "language_info": {
   "codemirror_mode": {
    "name": "ipython",
    "version": 3
   },
   "file_extension": ".py",
   "mimetype": "text/x-python",
   "name": "python",
   "nbconvert_exporter": "python",
   "pygments_lexer": "ipython3",
   "version": "3.9.2"
  },
  "orig_nbformat": 4
 },
 "nbformat": 4,
 "nbformat_minor": 2
}
